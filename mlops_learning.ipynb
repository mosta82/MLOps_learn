{
  "nbformat": 4,
  "nbformat_minor": 0,
  "metadata": {
    "colab": {
      "provenance": [],
      "authorship_tag": "ABX9TyMncdQEldlW/Dx+3c9ZfEGL",
      "include_colab_link": true
    },
    "kernelspec": {
      "name": "python3",
      "display_name": "Python 3"
    },
    "language_info": {
      "name": "python"
    }
  },
  "cells": [
    {
      "cell_type": "markdown",
      "metadata": {
        "id": "view-in-github",
        "colab_type": "text"
      },
      "source": [
        "<a href=\"https://colab.research.google.com/github/mosta82/MLOps_learn/blob/main/mlops_learning.ipynb\" target=\"_parent\"><img src=\"https://colab.research.google.com/assets/colab-badge.svg\" alt=\"Open In Colab\"/></a>"
      ]
    },
    {
      "cell_type": "code",
      "execution_count": null,
      "metadata": {
        "colab": {
          "base_uri": "https://localhost:8080/"
        },
        "id": "27Dw6cKw9H81",
        "outputId": "10c24f5c-3695-4c65-dbf3-2d20490e232b"
      },
      "outputs": [
        {
          "output_type": "stream",
          "name": "stdout",
          "text": [
            "Sum: 13\n",
            "Multiply: 30\n",
            "Divide: 3.3333333333333335\n"
          ]
        }
      ],
      "source": [
        "a = 10\n",
        "b = 3\n",
        "print(\"Sum:\", a + b)\n",
        "print(\"Multiply:\", a * b)\n",
        "print(\"Divide:\", a / b)\n"
      ]
    },
    {
      "cell_type": "code",
      "source": [],
      "metadata": {
        "id": "JIE_ehQIG_bs"
      },
      "execution_count": null,
      "outputs": []
    },
    {
      "cell_type": "code",
      "source": [
        "numbers = [2, 5, 8, 1]\n",
        "print(\"First element:\", numbers[0])\n",
        "numbers.append(10)\n",
        "print(\"After appending:\", numbers)\n",
        "for num in numbers:\n",
        "    print(num)\n"
      ],
      "metadata": {
        "colab": {
          "base_uri": "https://localhost:8080/"
        },
        "id": "hW7b5fjzGyyH",
        "outputId": "25a4721e-aa02-4219-d866-6b3bd5cf5653"
      },
      "execution_count": null,
      "outputs": [
        {
          "output_type": "stream",
          "name": "stdout",
          "text": [
            "First element: 2\n",
            "After appending: [2, 5, 8, 1, 10]\n",
            "2\n",
            "5\n",
            "8\n",
            "1\n",
            "10\n"
          ]
        }
      ]
    },
    {
      "cell_type": "code",
      "source": [
        "student = {'name': 'Alice', 'age': 21}\n",
        "print(student['name'])\n",
        "student['grade'] = 'A'\n",
        "print(student)\n",
        "\n"
      ],
      "metadata": {
        "colab": {
          "base_uri": "https://localhost:8080/"
        },
        "id": "shTwopKMHCNz",
        "outputId": "ccdb0ede-4a80-4116-fd7f-637f6033be0e"
      },
      "execution_count": null,
      "outputs": [
        {
          "output_type": "stream",
          "name": "stdout",
          "text": [
            "Alice\n",
            "{'name': 'Alice', 'age': 21, 'grade': 'A'}\n"
          ]
        }
      ]
    },
    {
      "cell_type": "code",
      "source": [
        "def square(x):\n",
        "    return x * x\n",
        "\n",
        "result = square(5)\n",
        "print(result)\n",
        "\n"
      ],
      "metadata": {
        "id": "0qdYQQECHbnV",
        "outputId": "8eb1a676-5844-4b3e-dd20-5ffe9015f2f5",
        "colab": {
          "base_uri": "https://localhost:8080/"
        }
      },
      "execution_count": 3,
      "outputs": [
        {
          "output_type": "stream",
          "name": "stdout",
          "text": [
            "25\n"
          ]
        }
      ]
    },
    {
      "cell_type": "code",
      "source": [
        "with open('sample.txt', 'w') as f:\n",
        "    f.write('Hello World!\\nThis is a test file.')\n",
        "\n",
        "with open('sample.txt', 'r') as f:\n",
        "    data = f.read()\n",
        "    print(data)\n"
      ],
      "metadata": {
        "id": "qhUpDjKVH04Y",
        "outputId": "757a64c0-d28f-4b01-87a7-beea74512a65",
        "colab": {
          "base_uri": "https://localhost:8080/"
        }
      },
      "execution_count": 4,
      "outputs": [
        {
          "output_type": "stream",
          "name": "stdout",
          "text": [
            "Hello World!\n",
            "This is a test file.\n"
          ]
        }
      ]
    },
    {
      "cell_type": "code",
      "source": [],
      "metadata": {
        "id": "6ZjBDcf2I5rS"
      },
      "execution_count": null,
      "outputs": []
    }
  ]
}