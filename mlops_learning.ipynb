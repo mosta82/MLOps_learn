{
  "nbformat": 4,
  "nbformat_minor": 0,
  "metadata": {
    "colab": {
      "provenance": [],
      "authorship_tag": "ABX9TyOp9gVNgWvV3M2lwTuXkpUb",
      "include_colab_link": true
    },
    "kernelspec": {
      "name": "python3",
      "display_name": "Python 3"
    },
    "language_info": {
      "name": "python"
    }
  },
  "cells": [
    {
      "cell_type": "markdown",
      "metadata": {
        "id": "view-in-github",
        "colab_type": "text"
      },
      "source": [
        "<a href=\"https://colab.research.google.com/github/mosta82/MLOps_learn/blob/main/mlops_learning.ipynb\" target=\"_parent\"><img src=\"https://colab.research.google.com/assets/colab-badge.svg\" alt=\"Open In Colab\"/></a>"
      ]
    },
    {
      "cell_type": "code",
      "execution_count": null,
      "metadata": {
        "colab": {
          "base_uri": "https://localhost:8080/"
        },
        "id": "27Dw6cKw9H81",
        "outputId": "10c24f5c-3695-4c65-dbf3-2d20490e232b"
      },
      "outputs": [
        {
          "output_type": "stream",
          "name": "stdout",
          "text": [
            "Sum: 13\n",
            "Multiply: 30\n",
            "Divide: 3.3333333333333335\n"
          ]
        }
      ],
      "source": [
        "a = 10\n",
        "b = 3\n",
        "print(\"Sum:\", a + b)\n",
        "print(\"Multiply:\", a * b)\n",
        "print(\"Divide:\", a / b)\n"
      ]
    },
    {
      "cell_type": "code",
      "source": [],
      "metadata": {
        "id": "JIE_ehQIG_bs"
      },
      "execution_count": null,
      "outputs": []
    },
    {
      "cell_type": "code",
      "source": [
        "numbers = [2, 5, 8, 1]\n",
        "print(\"First element:\", numbers[0])\n",
        "numbers.append(10)\n",
        "print(\"After appending:\", numbers)\n",
        "for num in numbers:\n",
        "    print(num)\n"
      ],
      "metadata": {
        "id": "hW7b5fjzGyyH",
        "outputId": "25a4721e-aa02-4219-d866-6b3bd5cf5653",
        "colab": {
          "base_uri": "https://localhost:8080/"
        }
      },
      "execution_count": 1,
      "outputs": [
        {
          "output_type": "stream",
          "name": "stdout",
          "text": [
            "First element: 2\n",
            "After appending: [2, 5, 8, 1, 10]\n",
            "2\n",
            "5\n",
            "8\n",
            "1\n",
            "10\n"
          ]
        }
      ]
    },
    {
      "cell_type": "code",
      "source": [
        "student = {'name': 'Alice', 'age': 21}\n",
        "print(student['name'])\n",
        "student['grade'] = 'A'\n",
        "print(student)\n",
        "\n"
      ],
      "metadata": {
        "id": "shTwopKMHCNz",
        "outputId": "ccdb0ede-4a80-4116-fd7f-637f6033be0e",
        "colab": {
          "base_uri": "https://localhost:8080/"
        }
      },
      "execution_count": 2,
      "outputs": [
        {
          "output_type": "stream",
          "name": "stdout",
          "text": [
            "Alice\n",
            "{'name': 'Alice', 'age': 21, 'grade': 'A'}\n"
          ]
        }
      ]
    }
  ]
}