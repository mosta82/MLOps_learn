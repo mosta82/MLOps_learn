{
  "nbformat": 4,
  "nbformat_minor": 0,
  "metadata": {
    "colab": {
      "provenance": [],
      "authorship_tag": "ABX9TyM1CMd+8ds3JZvzDozDjPfI",
      "include_colab_link": true
    },
    "kernelspec": {
      "name": "python3",
      "display_name": "Python 3"
    },
    "language_info": {
      "name": "python"
    }
  },
  "cells": [
    {
      "cell_type": "markdown",
      "metadata": {
        "id": "view-in-github",
        "colab_type": "text"
      },
      "source": [
        "<a href=\"https://colab.research.google.com/github/mosta82/MLOps_learn/blob/main/mlops_learning.ipynb\" target=\"_parent\"><img src=\"https://colab.research.google.com/assets/colab-badge.svg\" alt=\"Open In Colab\"/></a>"
      ]
    },
    {
      "cell_type": "code",
      "execution_count": null,
      "metadata": {
        "colab": {
          "base_uri": "https://localhost:8080/"
        },
        "id": "27Dw6cKw9H81",
        "outputId": "10c24f5c-3695-4c65-dbf3-2d20490e232b"
      },
      "outputs": [
        {
          "output_type": "stream",
          "name": "stdout",
          "text": [
            "Sum: 13\n",
            "Multiply: 30\n",
            "Divide: 3.3333333333333335\n"
          ]
        }
      ],
      "source": [
        "a = 10\n",
        "b = 3\n",
        "print(\"Sum:\", a + b)\n",
        "print(\"Multiply:\", a * b)\n",
        "print(\"Divide:\", a / b)\n"
      ]
    },
    {
      "cell_type": "code",
      "source": [],
      "metadata": {
        "id": "JIE_ehQIG_bs"
      },
      "execution_count": null,
      "outputs": []
    },
    {
      "cell_type": "code",
      "source": [
        "numbers = [2, 5, 8, 1]\n",
        "print(\"First element:\", numbers[0])\n",
        "numbers.append(10)\n",
        "print(\"After appending:\", numbers)\n",
        "for num in numbers:\n",
        "    print(num)\n"
      ],
      "metadata": {
        "colab": {
          "base_uri": "https://localhost:8080/"
        },
        "id": "hW7b5fjzGyyH",
        "outputId": "25a4721e-aa02-4219-d866-6b3bd5cf5653"
      },
      "execution_count": null,
      "outputs": [
        {
          "output_type": "stream",
          "name": "stdout",
          "text": [
            "First element: 2\n",
            "After appending: [2, 5, 8, 1, 10]\n",
            "2\n",
            "5\n",
            "8\n",
            "1\n",
            "10\n"
          ]
        }
      ]
    },
    {
      "cell_type": "code",
      "source": [
        "student = {'name': 'Alice', 'age': 21}\n",
        "print(student['name'])\n",
        "student['grade'] = 'A'\n",
        "print(student)\n",
        "\n"
      ],
      "metadata": {
        "colab": {
          "base_uri": "https://localhost:8080/"
        },
        "id": "shTwopKMHCNz",
        "outputId": "ccdb0ede-4a80-4116-fd7f-637f6033be0e"
      },
      "execution_count": null,
      "outputs": [
        {
          "output_type": "stream",
          "name": "stdout",
          "text": [
            "Alice\n",
            "{'name': 'Alice', 'age': 21, 'grade': 'A'}\n"
          ]
        }
      ]
    },
    {
      "cell_type": "code",
      "source": [
        "def square(x):\n",
        "    return x * x\n",
        "\n",
        "result = square(5)\n",
        "print(result)\n",
        "\n"
      ],
      "metadata": {
        "id": "0qdYQQECHbnV",
        "colab": {
          "base_uri": "https://localhost:8080/"
        },
        "outputId": "8eb1a676-5844-4b3e-dd20-5ffe9015f2f5"
      },
      "execution_count": null,
      "outputs": [
        {
          "output_type": "stream",
          "name": "stdout",
          "text": [
            "25\n"
          ]
        }
      ]
    },
    {
      "cell_type": "code",
      "source": [
        "with open('sample.txt', 'w') as f:\n",
        "    f.write('Hello World!\\nThis is a test file.')\n",
        "\n",
        "with open('sample.txt', 'r') as f:\n",
        "    data = f.read()\n",
        "    print(data)\n"
      ],
      "metadata": {
        "colab": {
          "base_uri": "https://localhost:8080/"
        },
        "id": "qhUpDjKVH04Y",
        "outputId": "757a64c0-d28f-4b01-87a7-beea74512a65"
      },
      "execution_count": null,
      "outputs": [
        {
          "output_type": "stream",
          "name": "stdout",
          "text": [
            "Hello World!\n",
            "This is a test file.\n"
          ]
        }
      ]
    },
    {
      "cell_type": "code",
      "source": [
        "import numpy as np\n",
        "import pandas as pd\n",
        "\n",
        "arr = np.array([1, 2, 3, 4])\n",
        "print(arr.mean())\n",
        "\n",
        "df = pd.DataFrame({'name': ['Tom', 'Jerry'], 'age': [23, 21]})\n",
        "print(df)\n"
      ],
      "metadata": {
        "colab": {
          "base_uri": "https://localhost:8080/"
        },
        "id": "6ZjBDcf2I5rS",
        "outputId": "2049e36e-3d82-409c-d2d8-dd014698237f"
      },
      "execution_count": null,
      "outputs": [
        {
          "output_type": "stream",
          "name": "stdout",
          "text": [
            "2.5\n",
            "    name  age\n",
            "0    Tom   23\n",
            "1  Jerry   21\n"
          ]
        }
      ]
    },
    {
      "cell_type": "code",
      "source": [
        "import pandas as pd\n",
        "url = 'https://raw.githubusercontent.com/datasciencedojo/datasets/master/titanic.csv'\n",
        "df = pd.read_csv(url)\n",
        "print(df.head())\n"
      ],
      "metadata": {
        "id": "ecc0MHb3KG4u",
        "colab": {
          "base_uri": "https://localhost:8080/"
        },
        "outputId": "47cf1ca7-7942-4670-9781-338d91e9227a"
      },
      "execution_count": null,
      "outputs": [
        {
          "output_type": "stream",
          "name": "stdout",
          "text": [
            "   PassengerId  Survived  Pclass  \\\n",
            "0            1         0       3   \n",
            "1            2         1       1   \n",
            "2            3         1       3   \n",
            "3            4         1       1   \n",
            "4            5         0       3   \n",
            "\n",
            "                                                Name     Sex   Age  SibSp  \\\n",
            "0                            Braund, Mr. Owen Harris    male  22.0      1   \n",
            "1  Cumings, Mrs. John Bradley (Florence Briggs Th...  female  38.0      1   \n",
            "2                             Heikkinen, Miss. Laina  female  26.0      0   \n",
            "3       Futrelle, Mrs. Jacques Heath (Lily May Peel)  female  35.0      1   \n",
            "4                           Allen, Mr. William Henry    male  35.0      0   \n",
            "\n",
            "   Parch            Ticket     Fare Cabin Embarked  \n",
            "0      0         A/5 21171   7.2500   NaN        S  \n",
            "1      0          PC 17599  71.2833   C85        C  \n",
            "2      0  STON/O2. 3101282   7.9250   NaN        S  \n",
            "3      0            113803  53.1000  C123        S  \n",
            "4      0            373450   8.0500   NaN        S  \n"
          ]
        }
      ]
    },
    {
      "cell_type": "code",
      "source": [
        "# 1. Number of passengers\n",
        "print(\"Total passengers:\", len(df))\n",
        "\n",
        "# 2. Columns in the dataset\n",
        "print(\"Columns:\", df.columns.tolist())\n",
        "\n",
        "# 3. Number of survivors\n",
        "print(\"Survived:\", df['Survived'].sum())\n",
        "\n",
        "# 4. Average age\n",
        "print(\"Average age:\", df['Age'].mean())\n",
        "\n",
        "# 5. Gender distribution\n",
        "print(\"Gender counts:\\n\", df['Sex'].value_counts())\n"
      ],
      "metadata": {
        "colab": {
          "base_uri": "https://localhost:8080/"
        },
        "id": "YTpUFH9lAZz-",
        "outputId": "54f6918f-d750-4a39-f4ec-5361da2c58c3"
      },
      "execution_count": null,
      "outputs": [
        {
          "output_type": "stream",
          "name": "stdout",
          "text": [
            "Total passengers: 891\n",
            "Columns: ['PassengerId', 'Survived', 'Pclass', 'Name', 'Sex', 'Age', 'SibSp', 'Parch', 'Ticket', 'Fare', 'Cabin', 'Embarked']\n",
            "Survived: 342\n",
            "Average age: 29.69911764705882\n",
            "Gender counts:\n",
            " Sex\n",
            "male      577\n",
            "female    314\n",
            "Name: count, dtype: int64\n"
          ]
        }
      ]
    },
    {
      "cell_type": "code",
      "source": [
        "df.describe().to_csv(\"titanic_summary.csv\")\n"
      ],
      "metadata": {
        "id": "-zR72LZRB8Wh"
      },
      "execution_count": null,
      "outputs": []
    },
    {
      "cell_type": "code",
      "source": [
        "import numpy as np\n",
        "\n",
        "# Create an array\n",
        "arr = np.array([1, 2, 3, 4])\n",
        "print(\"Array:\", arr)\n",
        "\n",
        "# Basic operations\n",
        "print(\"Mean:\", arr.mean())\n",
        "print(\"Sum:\", arr.sum())\n",
        "print(\"Squared:\", arr ** 2)\n",
        "\n",
        "# 2D Arrays (matrices)\n",
        "mat = np.array([[1, 2], [3, 4]])\n",
        "print(\"Matrix:\\n\", mat)\n",
        "print(\"Matrix Transpose:\\n\", mat.T)\n"
      ],
      "metadata": {
        "colab": {
          "base_uri": "https://localhost:8080/"
        },
        "id": "eWDSP9eMCb-7",
        "outputId": "105ce661-1ac9-4073-e648-ffbd4afd8152"
      },
      "execution_count": null,
      "outputs": [
        {
          "output_type": "stream",
          "name": "stdout",
          "text": [
            "Array: [1 2 3 4]\n",
            "Mean: 2.5\n",
            "Sum: 10\n",
            "Squared: [ 1  4  9 16]\n",
            "Matrix:\n",
            " [[1 2]\n",
            " [3 4]]\n",
            "Matrix Transpose:\n",
            " [[1 3]\n",
            " [2 4]]\n"
          ]
        }
      ]
    },
    {
      "cell_type": "code",
      "source": [
        "import pandas as pd\n",
        "\n",
        "# Create a DataFrame (table)\n",
        "df = pd.DataFrame({\n",
        "    'name': ['Alice', 'Bob', 'Charlie'],\n",
        "    'age': [24, 19, 22]\n",
        "})\n",
        "\n",
        "print(df)\n",
        "\n",
        "# Select a column\n",
        "print(\"Ages:\", df['age'])\n",
        "\n",
        "# Filter rows\n",
        "print(\"Older than 20:\\n\", df[df['age'] > 20])\n",
        "\n",
        "# Add a new column\n",
        "df['age_plus_5'] = df['age'] + 5\n",
        "print(df)\n",
        "\n",
        "# Describe (quick summary)\n",
        "print(df.describe())\n"
      ],
      "metadata": {
        "colab": {
          "base_uri": "https://localhost:8080/"
        },
        "id": "JpLsCOieGoBv",
        "outputId": "c50ae0a4-0d9e-4cd3-f066-ab903f387f8e"
      },
      "execution_count": null,
      "outputs": [
        {
          "output_type": "stream",
          "name": "stdout",
          "text": [
            "      name  age\n",
            "0    Alice   24\n",
            "1      Bob   19\n",
            "2  Charlie   22\n",
            "Ages: 0    24\n",
            "1    19\n",
            "2    22\n",
            "Name: age, dtype: int64\n",
            "Older than 20:\n",
            "       name  age\n",
            "0    Alice   24\n",
            "2  Charlie   22\n",
            "      name  age  age_plus_5\n",
            "0    Alice   24          29\n",
            "1      Bob   19          24\n",
            "2  Charlie   22          27\n",
            "             age  age_plus_5\n",
            "count   3.000000    3.000000\n",
            "mean   21.666667   26.666667\n",
            "std     2.516611    2.516611\n",
            "min    19.000000   24.000000\n",
            "25%    20.500000   25.500000\n",
            "50%    22.000000   27.000000\n",
            "75%    23.000000   28.000000\n",
            "max    24.000000   29.000000\n"
          ]
        }
      ]
    },
    {
      "cell_type": "code",
      "source": [
        "# Write a file\n",
        "with open('myfile.txt', 'w') as f:\n",
        "    f.write(\"Hello!\\nPython is awesome.\\n\")\n",
        "\n",
        "# Read the file\n",
        "with open('myfile.txt', 'r') as f:\n",
        "    data = f.read()\n",
        "    print(data)\n"
      ],
      "metadata": {
        "colab": {
          "base_uri": "https://localhost:8080/"
        },
        "id": "CA4ZPnBiIEL6",
        "outputId": "60c39490-9617-4119-fd48-b9d1b5f5ce03"
      },
      "execution_count": null,
      "outputs": [
        {
          "output_type": "stream",
          "name": "stdout",
          "text": [
            "Hello!\n",
            "Python is awesome.\n",
            "\n"
          ]
        }
      ]
    },
    {
      "cell_type": "code",
      "source": [
        "with open('myfile.txt', 'w') as f:\n",
        "    f.write(\"This is my output!\\n\")\n",
        "\n",
        "with open(\"myfile.txt\", \"r\") as f:\n",
        "    data = f.read()\n",
        "    print(data)\n",
        "\n"
      ],
      "metadata": {
        "id": "x4ZJNz1EKjDn",
        "outputId": "3a85fcce-11d9-4769-916f-1ef9ffd6e7f9",
        "colab": {
          "base_uri": "https://localhost:8080/"
        }
      },
      "execution_count": null,
      "outputs": [
        {
          "output_type": "stream",
          "name": "stdout",
          "text": [
            "This is my output!\n",
            "\n"
          ]
        }
      ]
    },
    {
      "source": [
        "import pandas as pd\n",
        "\n",
        "# Read CSV from local or web\n",
        "# df = pd.read_csv('mydata.csv')      # Local file\n",
        "# Replace the placeholder URL with the actual URL of your CSV file\n",
        "# For example, you might want to reload the Titanic dataset\n",
        "url = 'https://raw.githubusercontent.com/datasciencedojo/datasets/master/titanic.csv'\n",
        "df = pd.read_csv(url)\n",
        "\n",
        "print(df.head())    # Show first 5 rows"
      ],
      "cell_type": "code",
      "metadata": {
        "colab": {
          "base_uri": "https://localhost:8080/"
        },
        "id": "fjz2ILLuJ9rl",
        "outputId": "c6f7d4db-9f00-4cff-a7a2-21158a52e18e"
      },
      "execution_count": null,
      "outputs": [
        {
          "output_type": "stream",
          "name": "stdout",
          "text": [
            "   PassengerId  Survived  Pclass  \\\n",
            "0            1         0       3   \n",
            "1            2         1       1   \n",
            "2            3         1       3   \n",
            "3            4         1       1   \n",
            "4            5         0       3   \n",
            "\n",
            "                                                Name     Sex   Age  SibSp  \\\n",
            "0                            Braund, Mr. Owen Harris    male  22.0      1   \n",
            "1  Cumings, Mrs. John Bradley (Florence Briggs Th...  female  38.0      1   \n",
            "2                             Heikkinen, Miss. Laina  female  26.0      0   \n",
            "3       Futrelle, Mrs. Jacques Heath (Lily May Peel)  female  35.0      1   \n",
            "4                           Allen, Mr. William Henry    male  35.0      0   \n",
            "\n",
            "   Parch            Ticket     Fare Cabin Embarked  \n",
            "0      0         A/5 21171   7.2500   NaN        S  \n",
            "1      0          PC 17599  71.2833   C85        C  \n",
            "2      0  STON/O2. 3101282   7.9250   NaN        S  \n",
            "3      0            113803  53.1000  C123        S  \n",
            "4      0            373450   8.0500   NaN        S  \n"
          ]
        }
      ]
    },
    {
      "cell_type": "code",
      "source": [
        "import numpy as np\n",
        "\n",
        "arr = np.arange(1, 11)  # [1, 2, ..., 10]\n",
        "print(\"Array:\", arr)\n",
        "print(\"Mean:\", arr.mean())\n",
        "print(\"Standard deviation:\", arr.std())\n"
      ],
      "metadata": {
        "id": "m7stIBWRL16z",
        "outputId": "5e642760-0c7e-4fb1-c9fa-b37a0aa58794",
        "colab": {
          "base_uri": "https://localhost:8080/"
        }
      },
      "execution_count": null,
      "outputs": [
        {
          "output_type": "stream",
          "name": "stdout",
          "text": [
            "Array: [ 1  2  3  4  5  6  7  8  9 10]\n",
            "Mean: 5.5\n",
            "Standard deviation: 2.8722813232690143\n"
          ]
        }
      ]
    },
    {
      "cell_type": "code",
      "source": [
        "import pandas as pd\n",
        "\n",
        "# Sample data\n",
        "data = {\n",
        "    'name': ['Alice', 'Bob', 'Charlie', 'David'],\n",
        "    'score': [55, 38, 72, 25]\n",
        "}\n",
        "df = pd.DataFrame(data)\n",
        "\n",
        "# Add 'pass' column: True if score >= 40, else False\n",
        "df['pass'] = df['score'] >= 40\n",
        "\n",
        "print(df)\n"
      ],
      "metadata": {
        "id": "ocW818SaL4Ny",
        "outputId": "24aeb91d-2ed7-4550-c301-c499901e5d33",
        "colab": {
          "base_uri": "https://localhost:8080/"
        }
      },
      "execution_count": null,
      "outputs": [
        {
          "output_type": "stream",
          "name": "stdout",
          "text": [
            "      name  score   pass\n",
            "0    Alice     55   True\n",
            "1      Bob     38  False\n",
            "2  Charlie     72   True\n",
            "3    David     25  False\n"
          ]
        }
      ]
    },
    {
      "cell_type": "code",
      "source": [
        "# Write to the file\n",
        "with open('notes.txt', 'w') as f:\n",
        "    f.write(\"Name: Abrar\\n\")\n",
        "    f.write(\"Favorite language: Python\\n\")\n",
        "\n",
        "# Read the file\n",
        "with open('notes.txt', 'r') as f:\n",
        "    content = f.read()\n",
        "    print(content)\n"
      ],
      "metadata": {
        "id": "Lf4qnCxvMJ9N",
        "outputId": "f36de419-0409-4ce7-8e08-4930f46ece55",
        "colab": {
          "base_uri": "https://localhost:8080/"
        }
      },
      "execution_count": null,
      "outputs": [
        {
          "output_type": "stream",
          "name": "stdout",
          "text": [
            "Name: Abrar\n",
            "Favorite language: Python\n",
            "\n"
          ]
        }
      ]
    },
    {
      "cell_type": "code",
      "source": [
        "import pandas as pd\n",
        "\n",
        "df = pd.DataFrame({\n",
        "    'city': ['Dhaka', 'Chittagong', 'Sylhet'],\n",
        "    'population_million': [21, 4, 1]\n",
        "})\n",
        "df.to_csv('cities.csv', index=False)\n",
        "\n",
        "# Check that it worked\n",
        "print(pd.read_csv('cities.csv'))\n"
      ],
      "metadata": {
        "id": "IsqRKq-QMTIo",
        "outputId": "672c297c-32c4-4a7e-bf19-c55f6898c087",
        "colab": {
          "base_uri": "https://localhost:8080/"
        }
      },
      "execution_count": null,
      "outputs": [
        {
          "output_type": "stream",
          "name": "stdout",
          "text": [
            "         city  population_million\n",
            "0       Dhaka                  21\n",
            "1  Chittagong                   4\n",
            "2      Sylhet                   1\n"
          ]
        }
      ]
    },
    {
      "cell_type": "code",
      "source": [
        "class Car:\n",
        "    def __init__(self, brand, year):\n",
        "        self.brand = brand\n",
        "        self.year = year\n",
        "\n",
        "    def display(self):\n",
        "        print(f\"This car is a {self.brand}, made in {self.year}.\")\n",
        "\n",
        "# Create an object and use the method\n",
        "my_car = Car('Toyota', 2018)\n",
        "my_car.display()\n"
      ],
      "metadata": {
        "id": "Iieyz_HuMuJs",
        "outputId": "6a6a42fb-0c01-4e41-fa8f-3483bc2c696e",
        "colab": {
          "base_uri": "https://localhost:8080/"
        }
      },
      "execution_count": null,
      "outputs": [
        {
          "output_type": "stream",
          "name": "stdout",
          "text": [
            "This car is a Toyota, made in 2018.\n"
          ]
        }
      ]
    },
    {
      "cell_type": "code",
      "source": [
        "import numpy as np\n",
        "import pandas as pd\n",
        "\n",
        "# Create random numbers using numpy\n",
        "scores = np.random.randint(30, 100, 5)\n",
        "names = ['Tuhin', 'Anik', 'Nadia', 'Sumon', 'Mina']\n",
        "\n",
        "df = pd.DataFrame({'name': names, 'score': scores})\n",
        "df['pass'] = df['score'] >= 40\n",
        "print(df)\n"
      ],
      "metadata": {
        "id": "N0c2-lf0NNYC",
        "outputId": "a89b20f8-4efe-4fb2-fc7a-ed57dec9c319",
        "colab": {
          "base_uri": "https://localhost:8080/"
        }
      },
      "execution_count": null,
      "outputs": [
        {
          "output_type": "stream",
          "name": "stdout",
          "text": [
            "    name  score   pass\n",
            "0  Tuhin     87   True\n",
            "1   Anik     31  False\n",
            "2  Nadia     88   True\n",
            "3  Sumon     66   True\n",
            "4   Mina     48   True\n"
          ]
        }
      ]
    },
    {
      "cell_type": "code",
      "source": [
        "import numpy as np\n",
        "\n",
        "data = np.array([1, 2, 3, 4])\n",
        "print(data.mean())  # Average\n",
        "print(np.log(data))  # Log transform (used in ML)\n"
      ],
      "metadata": {
        "colab": {
          "base_uri": "https://localhost:8080/"
        },
        "id": "CL2mAdKn2i-C",
        "outputId": "a2a91926-4992-4747-b39c-3803221acf68"
      },
      "execution_count": 1,
      "outputs": [
        {
          "output_type": "stream",
          "name": "stdout",
          "text": [
            "2.5\n",
            "[0.         0.69314718 1.09861229 1.38629436]\n"
          ]
        }
      ]
    },
    {
      "cell_type": "code",
      "source": [
        "import pandas as pd\n",
        "\n",
        "df = pd.DataFrame({\n",
        "    'transaction_id': [101, 102, 103],\n",
        "    'amount': [200, 150, 300],\n",
        "    'is_fraud': [0, 1, 0]\n",
        "})\n",
        "\n",
        "print(df.head())           # View top rows\n",
        "print(df['amount'].mean()) # Average amount\n",
        "print(df[df['is_fraud'] == 1])  # Filter fraud rows\n"
      ],
      "metadata": {
        "colab": {
          "base_uri": "https://localhost:8080/"
        },
        "id": "GgJfmgOe3EuU",
        "outputId": "0f7b9a4c-5aa2-460a-e643-d9174dd417bc"
      },
      "execution_count": 2,
      "outputs": [
        {
          "output_type": "stream",
          "name": "stdout",
          "text": [
            "   transaction_id  amount  is_fraud\n",
            "0             101     200         0\n",
            "1             102     150         1\n",
            "2             103     300         0\n",
            "216.66666666666666\n",
            "   transaction_id  amount  is_fraud\n",
            "1             102     150         1\n"
          ]
        }
      ]
    },
    {
      "cell_type": "code",
      "source": [
        "class ModelEvaluator:\n",
        "    def __init__(self, name, accuracy):\n",
        "        self.name = name\n",
        "        self.accuracy = accuracy\n",
        "\n",
        "    def evaluate(self):\n",
        "        print(f\"{self.name} achieved {self.accuracy * 100:.2f}% accuracy\")\n",
        "\n",
        "evaluator = ModelEvaluator(\"RandomForest\", 0.93)\n",
        "evaluator.evaluate()\n"
      ],
      "metadata": {
        "id": "M6cHGbsg3fNi",
        "outputId": "dbd830b4-222c-4e76-83ac-d5af4023dca2",
        "colab": {
          "base_uri": "https://localhost:8080/"
        }
      },
      "execution_count": 3,
      "outputs": [
        {
          "output_type": "stream",
          "name": "stdout",
          "text": [
            "RandomForest achieved 93.00% accuracy\n"
          ]
        }
      ]
    }
  ]
}