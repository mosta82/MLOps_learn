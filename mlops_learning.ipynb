{
  "nbformat": 4,
  "nbformat_minor": 0,
  "metadata": {
    "colab": {
      "provenance": [],
      "authorship_tag": "ABX9TyOpRyToWtTGZE9WgsEK7RiB",
      "include_colab_link": true
    },
    "kernelspec": {
      "name": "python3",
      "display_name": "Python 3"
    },
    "language_info": {
      "name": "python"
    }
  },
  "cells": [
    {
      "cell_type": "markdown",
      "metadata": {
        "id": "view-in-github",
        "colab_type": "text"
      },
      "source": [
        "<a href=\"https://colab.research.google.com/github/mosta82/MLOps_learn/blob/main/mlops_learning.ipynb\" target=\"_parent\"><img src=\"https://colab.research.google.com/assets/colab-badge.svg\" alt=\"Open In Colab\"/></a>"
      ]
    },
    {
      "cell_type": "code",
      "execution_count": null,
      "metadata": {
        "colab": {
          "base_uri": "https://localhost:8080/"
        },
        "id": "27Dw6cKw9H81",
        "outputId": "10c24f5c-3695-4c65-dbf3-2d20490e232b"
      },
      "outputs": [
        {
          "output_type": "stream",
          "name": "stdout",
          "text": [
            "Sum: 13\n",
            "Multiply: 30\n",
            "Divide: 3.3333333333333335\n"
          ]
        }
      ],
      "source": [
        "a = 10\n",
        "b = 3\n",
        "print(\"Sum:\", a + b)\n",
        "print(\"Multiply:\", a * b)\n",
        "print(\"Divide:\", a / b)\n"
      ]
    },
    {
      "cell_type": "code",
      "source": [],
      "metadata": {
        "id": "JIE_ehQIG_bs"
      },
      "execution_count": null,
      "outputs": []
    },
    {
      "cell_type": "code",
      "source": [
        "numbers = [2, 5, 8, 1]\n",
        "print(\"First element:\", numbers[0])\n",
        "numbers.append(10)\n",
        "print(\"After appending:\", numbers)\n",
        "for num in numbers:\n",
        "    print(num)\n"
      ],
      "metadata": {
        "colab": {
          "base_uri": "https://localhost:8080/"
        },
        "id": "hW7b5fjzGyyH",
        "outputId": "25a4721e-aa02-4219-d866-6b3bd5cf5653"
      },
      "execution_count": null,
      "outputs": [
        {
          "output_type": "stream",
          "name": "stdout",
          "text": [
            "First element: 2\n",
            "After appending: [2, 5, 8, 1, 10]\n",
            "2\n",
            "5\n",
            "8\n",
            "1\n",
            "10\n"
          ]
        }
      ]
    },
    {
      "cell_type": "code",
      "source": [
        "student = {'name': 'Alice', 'age': 21}\n",
        "print(student['name'])\n",
        "student['grade'] = 'A'\n",
        "print(student)\n",
        "\n"
      ],
      "metadata": {
        "colab": {
          "base_uri": "https://localhost:8080/"
        },
        "id": "shTwopKMHCNz",
        "outputId": "ccdb0ede-4a80-4116-fd7f-637f6033be0e"
      },
      "execution_count": null,
      "outputs": [
        {
          "output_type": "stream",
          "name": "stdout",
          "text": [
            "Alice\n",
            "{'name': 'Alice', 'age': 21, 'grade': 'A'}\n"
          ]
        }
      ]
    },
    {
      "cell_type": "code",
      "source": [
        "def square(x):\n",
        "    return x * x\n",
        "\n",
        "result = square(5)\n",
        "print(result)\n",
        "\n"
      ],
      "metadata": {
        "id": "0qdYQQECHbnV",
        "colab": {
          "base_uri": "https://localhost:8080/"
        },
        "outputId": "8eb1a676-5844-4b3e-dd20-5ffe9015f2f5"
      },
      "execution_count": null,
      "outputs": [
        {
          "output_type": "stream",
          "name": "stdout",
          "text": [
            "25\n"
          ]
        }
      ]
    },
    {
      "cell_type": "code",
      "source": [
        "with open('sample.txt', 'w') as f:\n",
        "    f.write('Hello World!\\nThis is a test file.')\n",
        "\n",
        "with open('sample.txt', 'r') as f:\n",
        "    data = f.read()\n",
        "    print(data)\n"
      ],
      "metadata": {
        "colab": {
          "base_uri": "https://localhost:8080/"
        },
        "id": "qhUpDjKVH04Y",
        "outputId": "757a64c0-d28f-4b01-87a7-beea74512a65"
      },
      "execution_count": null,
      "outputs": [
        {
          "output_type": "stream",
          "name": "stdout",
          "text": [
            "Hello World!\n",
            "This is a test file.\n"
          ]
        }
      ]
    },
    {
      "cell_type": "code",
      "source": [
        "import numpy as np\n",
        "import pandas as pd\n",
        "\n",
        "arr = np.array([1, 2, 3, 4])\n",
        "print(arr.mean())\n",
        "\n",
        "df = pd.DataFrame({'name': ['Tom', 'Jerry'], 'age': [23, 21]})\n",
        "print(df)\n"
      ],
      "metadata": {
        "colab": {
          "base_uri": "https://localhost:8080/"
        },
        "id": "6ZjBDcf2I5rS",
        "outputId": "2049e36e-3d82-409c-d2d8-dd014698237f"
      },
      "execution_count": null,
      "outputs": [
        {
          "output_type": "stream",
          "name": "stdout",
          "text": [
            "2.5\n",
            "    name  age\n",
            "0    Tom   23\n",
            "1  Jerry   21\n"
          ]
        }
      ]
    },
    {
      "cell_type": "code",
      "source": [
        "import pandas as pd\n",
        "url = 'https://raw.githubusercontent.com/datasciencedojo/datasets/master/titanic.csv'\n",
        "df = pd.read_csv(url)\n",
        "print(df.head())\n"
      ],
      "metadata": {
        "id": "ecc0MHb3KG4u",
        "colab": {
          "base_uri": "https://localhost:8080/"
        },
        "outputId": "47cf1ca7-7942-4670-9781-338d91e9227a"
      },
      "execution_count": 1,
      "outputs": [
        {
          "output_type": "stream",
          "name": "stdout",
          "text": [
            "   PassengerId  Survived  Pclass  \\\n",
            "0            1         0       3   \n",
            "1            2         1       1   \n",
            "2            3         1       3   \n",
            "3            4         1       1   \n",
            "4            5         0       3   \n",
            "\n",
            "                                                Name     Sex   Age  SibSp  \\\n",
            "0                            Braund, Mr. Owen Harris    male  22.0      1   \n",
            "1  Cumings, Mrs. John Bradley (Florence Briggs Th...  female  38.0      1   \n",
            "2                             Heikkinen, Miss. Laina  female  26.0      0   \n",
            "3       Futrelle, Mrs. Jacques Heath (Lily May Peel)  female  35.0      1   \n",
            "4                           Allen, Mr. William Henry    male  35.0      0   \n",
            "\n",
            "   Parch            Ticket     Fare Cabin Embarked  \n",
            "0      0         A/5 21171   7.2500   NaN        S  \n",
            "1      0          PC 17599  71.2833   C85        C  \n",
            "2      0  STON/O2. 3101282   7.9250   NaN        S  \n",
            "3      0            113803  53.1000  C123        S  \n",
            "4      0            373450   8.0500   NaN        S  \n"
          ]
        }
      ]
    },
    {
      "cell_type": "code",
      "source": [
        "# 1. Number of passengers\n",
        "print(\"Total passengers:\", len(df))\n",
        "\n",
        "# 2. Columns in the dataset\n",
        "print(\"Columns:\", df.columns.tolist())\n",
        "\n",
        "# 3. Number of survivors\n",
        "print(\"Survived:\", df['Survived'].sum())\n",
        "\n",
        "# 4. Average age\n",
        "print(\"Average age:\", df['Age'].mean())\n",
        "\n",
        "# 5. Gender distribution\n",
        "print(\"Gender counts:\\n\", df['Sex'].value_counts())\n"
      ],
      "metadata": {
        "colab": {
          "base_uri": "https://localhost:8080/"
        },
        "id": "YTpUFH9lAZz-",
        "outputId": "54f6918f-d750-4a39-f4ec-5361da2c58c3"
      },
      "execution_count": 2,
      "outputs": [
        {
          "output_type": "stream",
          "name": "stdout",
          "text": [
            "Total passengers: 891\n",
            "Columns: ['PassengerId', 'Survived', 'Pclass', 'Name', 'Sex', 'Age', 'SibSp', 'Parch', 'Ticket', 'Fare', 'Cabin', 'Embarked']\n",
            "Survived: 342\n",
            "Average age: 29.69911764705882\n",
            "Gender counts:\n",
            " Sex\n",
            "male      577\n",
            "female    314\n",
            "Name: count, dtype: int64\n"
          ]
        }
      ]
    },
    {
      "cell_type": "code",
      "source": [
        "df.describe().to_csv(\"titanic_summary.csv\")\n"
      ],
      "metadata": {
        "id": "-zR72LZRB8Wh"
      },
      "execution_count": 3,
      "outputs": []
    },
    {
      "cell_type": "code",
      "source": [
        "import numpy as np\n",
        "\n",
        "# Create an array\n",
        "arr = np.array([1, 2, 3, 4])\n",
        "print(\"Array:\", arr)\n",
        "\n",
        "# Basic operations\n",
        "print(\"Mean:\", arr.mean())\n",
        "print(\"Sum:\", arr.sum())\n",
        "print(\"Squared:\", arr ** 2)\n",
        "\n",
        "# 2D Arrays (matrices)\n",
        "mat = np.array([[1, 2], [3, 4]])\n",
        "print(\"Matrix:\\n\", mat)\n",
        "print(\"Matrix Transpose:\\n\", mat.T)\n"
      ],
      "metadata": {
        "colab": {
          "base_uri": "https://localhost:8080/"
        },
        "id": "eWDSP9eMCb-7",
        "outputId": "105ce661-1ac9-4073-e648-ffbd4afd8152"
      },
      "execution_count": 4,
      "outputs": [
        {
          "output_type": "stream",
          "name": "stdout",
          "text": [
            "Array: [1 2 3 4]\n",
            "Mean: 2.5\n",
            "Sum: 10\n",
            "Squared: [ 1  4  9 16]\n",
            "Matrix:\n",
            " [[1 2]\n",
            " [3 4]]\n",
            "Matrix Transpose:\n",
            " [[1 3]\n",
            " [2 4]]\n"
          ]
        }
      ]
    }
  ]
}